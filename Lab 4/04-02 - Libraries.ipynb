{
 "cells": [
  {
   "cell_type": "markdown",
   "metadata": {},
   "source": [
    "# Libraries\n",
    "In our previous document, we laid the foundational knowledge for using Python in econometrics. We explored Python basics, how to operate within a Jupyter Notebook, and briefly touched on importing modules. In this document, we will take a deeper dive into more advanced topics that are particularly relevant for econometric analyses. These include data manipulation using Pandas, numerical operations with NumPy, Ordinary Least Squares (OLS) estimation, plotting, and Monte Carlo simulations. \n",
    "\n",
    "### Libraries for Econometrics\n",
    "\n",
    "While the Python standard library is powerful, the real strength in Python for econometrics comes from its ecosystem of third-party libraries. We've already seen how to import modules using the import statement, as demonstrated with the math module. In this document, we will focus on four key libraries:\n",
    "\n",
    "- NumPy - For numerical computations and array manipulations.\n",
    "- Matplotlib - For data visualisation.\n",
    "- Pandas - For data manipulation and importing.\n",
    "\n",
    "\n",
    "To import these libraries, you generally use the following syntax:"
   ]
  },
  {
   "cell_type": "code",
   "execution_count": null,
   "metadata": {},
   "outputs": [],
   "source": [
    "# Import the necessary libraries\n",
    "import numpy as np                 # For mathematical calculations\n",
    "import matplotlib.pyplot as plt    # For plotting graphs \n",
    "import statsmodels.api as sm       # For statistical models\n",
    "import pandas as pd                # For dataframes and data manipulation"
   ]
  },
  {
   "cell_type": "markdown",
   "metadata": {},
   "source": [
    "While you are able to use any alias you want for the module, it is best practice to use the standard abbreviations.\n",
    "\n",
    "## NumPy\n",
    "### Numpy Arrays\n",
    "Having learned the basics of Python, we are now ready to learn about NumPy. NumPy is a Python library that is used for scientific computing and is particularly useful for performing numerical operations and array or matrix manipulations.\n",
    "\n",
    "Numpy's main object is called an *array*. An array is similar to a list in Python, but imposes additional restrictions on the data type and structure of the data. For example, a list can contain a mixture of data types, such as integers, floats, and strings. An array, on the other hand, can only contain one data type. Ultimately, this restriction allows for faster computation and more efficient memory usage.\n",
    "\n",
    "We can think of an array as a grid of values, all of the same type, and is indexed by a tuple of non-negative integers. For example, in the code we create a 1-dimensional array. We do this by passing a list to the array() function."
   ]
  },
  {
   "cell_type": "code",
   "execution_count": null,
   "metadata": {},
   "outputs": [],
   "source": [
    "python_list = [1, 2, 3, 4, 5]           # Create a python list\n",
    "numpy_array = np.array(python_list)     # Create a numpy array from a python list\n",
    "print(numpy_array)"
   ]
  },
  {
   "cell_type": "markdown",
   "metadata": {},
   "source": [
    "We can index the array using square brackets `[]`. For example, to access the first element of the array, we use the index 0.\n",
    "\n",
    "Note that python is zero-indexed, meaning that the first element of an array is at index 0. This is different from other programming languages, such as STATA, which are one-indexed."
   ]
  },
  {
   "cell_type": "code",
   "execution_count": null,
   "metadata": {},
   "outputs": [],
   "source": [
    "# We can index numpy arrays just like python lists\n",
    "print(numpy_array[0])       # Print the first element\n",
    "print(numpy_array[0:3])     # Print the first three elements"
   ]
  },
  {
   "cell_type": "markdown",
   "metadata": {},
   "source": [
    "Also note that the range of indices is inclusive of the first index and exclusive of the last index.\n",
    "\n",
    "We can also use negative indices to access elements from the end of the array. For example, to access the last element of the array, we use the index -1. "
   ]
  },
  {
   "cell_type": "code",
   "execution_count": null,
   "metadata": {},
   "outputs": [],
   "source": [
    "print(numpy_array[-1])"
   ]
  },
  {
   "cell_type": "markdown",
   "metadata": {},
   "source": [
    "To create a multi-dimensional array, which can be thought of as a matrix, we pass a list of lists to the `np.array()` function. For example, here's how you would create a two-dimensional array:"
   ]
  },
  {
   "cell_type": "code",
   "execution_count": null,
   "metadata": {},
   "outputs": [],
   "source": [
    "list_of_lists = [[1, 2, 3], [4, 5, 6], [7, 8, 9]]\n",
    "numpy_array_2d = np.array(list_of_lists)    # Create a 2d numpy array from a list of lists\n",
    "print(numpy_array_2d)                       # Print the array\n",
    "print(\"Shape: \", numpy_array_2d.shape)      # Print the shape of the array"
   ]
  },
  {
   "cell_type": "markdown",
   "metadata": {},
   "source": [
    "To access elements of a multidimensional array, we use the same syntax as before, but with multiple indices. For example, to access the `4`, we would access the second row and first column of the array."
   ]
  },
  {
   "cell_type": "code",
   "execution_count": null,
   "metadata": {},
   "outputs": [],
   "source": [
    "print(numpy_array_2d[1,0])     # Print element infirst row, second column"
   ]
  },
  {
   "cell_type": "markdown",
   "metadata": {},
   "source": [
    "To get the first row, and then second column:"
   ]
  },
  {
   "cell_type": "code",
   "execution_count": null,
   "metadata": {},
   "outputs": [],
   "source": [
    "print(numpy_array_2d[0,:])     # Print all elements in first row\n",
    "print(numpy_array_2d[:,1])     # Print all elements in second column"
   ]
  },
  {
   "cell_type": "markdown",
   "metadata": {},
   "source": [
    "### Operations with Arrays\n",
    "\n",
    "We can perform mathematical operations on arrays, such as addition, subtraction, multiplication, and division. For example, to add two arrays, we simply use the `+` operator. These operations are performed element-wise, meaning that the operation is performed on each element of the array. "
   ]
  },
  {
   "cell_type": "code",
   "execution_count": null,
   "metadata": {},
   "outputs": [],
   "source": [
    "x = np.array([1,2,3])\n",
    "\n",
    "print(\"x = \", x)\n",
    "\n",
    "print(\"Scalar Addition\", 3 + x)\n",
    "print(\"Scalar Subtraction\", 3 - x)\n",
    "print(\"Scalar Multiplication\", 3 * x)\n",
    "print(\"Scalar Division\", 3 / x)"
   ]
  },
  {
   "cell_type": "markdown",
   "metadata": {},
   "source": [
    "We can also perform element-wise operations with two arrays."
   ]
  },
  {
   "cell_type": "code",
   "execution_count": null,
   "metadata": {},
   "outputs": [],
   "source": [
    "y = np.array([4,5,6])\n",
    "\n",
    "print(\"x = \", x)\n",
    "print(\"y = \", y)\n",
    "\n",
    "print(\"Elementwise Addition\", x + y)\n",
    "print(\"Elementwise Subtraction\", x - y)\n",
    "print(\"Elementwise Multiplication\", x * y)\n",
    "print(\"Elementwise Division\", x / y)"
   ]
  },
  {
   "cell_type": "markdown",
   "metadata": {},
   "source": [
    "### Universal Functions\n",
    "\n",
    "We will often need to transform data in some way. For example, we may want to take the square root of each element in an array. NumPy provides a number of *universal functions*, or `ufuncs` for short, that perform element-wise operations on data in an array.\n",
    "\n",
    "Below we create an array of numbers from 0 to 9, and then apply the sine function to each element in the array."
   ]
  },
  {
   "cell_type": "code",
   "execution_count": null,
   "metadata": {},
   "outputs": [],
   "source": [
    "x = np.linspace(0, 9, 10)    # Create an array of 10 evenly spaced numbers between 0 and 9\n",
    "print(x)"
   ]
  },
  {
   "cell_type": "code",
   "execution_count": null,
   "metadata": {},
   "outputs": [],
   "source": [
    "np.sin(x)"
   ]
  },
  {
   "cell_type": "markdown",
   "metadata": {},
   "source": [
    "Other common `ufuncs` include:\n",
    "\n",
    "- `np.exp()` - Exponential function\n",
    "- `np.log()` - Natural logarithm\n",
    "- `np.abs()` - Absolute value\n",
    "- `np.sqrt()` - Square root\n",
    "\n",
    "There are many more `ufuncs` available in NumPy. For a full list, see the [NumPy documentation](https://numpy.org/doc/stable/reference/ufuncs.html).\n",
    "\n",
    "### Other Useful Functions\n",
    "\n",
    "Numpy is a very large library, and we have only scratched the surface of what it can do. If you think a function is common, it probably already exists in NumPy.\n",
    "\n",
    " However, there are a few other functions that are particularly useful for econometrics.\n",
    "\n",
    "As we did in the first notebook, we can use `tab` to see all of the functions available in a module."
   ]
  },
  {
   "cell_type": "code",
   "execution_count": null,
   "metadata": {},
   "outputs": [],
   "source": [
    "np.mean(x)"
   ]
  },
  {
   "cell_type": "code",
   "execution_count": null,
   "metadata": {},
   "outputs": [],
   "source": [
    "np.std(x)"
   ]
  },
  {
   "cell_type": "code",
   "execution_count": null,
   "metadata": {},
   "outputs": [],
   "source": [
    "print(f\"Min: {np.min(x)}, Max: {np.max(x)}\")   # Print the minimum and maximum values using f-strings"
   ]
  },
  {
   "cell_type": "code",
   "execution_count": null,
   "metadata": {},
   "outputs": [],
   "source": [
    "np.reshape(x, (5, 2))    # Reshape the array to a 5x2 matrix\n",
    "# Note that the reshape function returns a new array, it does not modify the original array"
   ]
  },
  {
   "cell_type": "markdown",
   "metadata": {},
   "source": [
    "\n",
    "\n",
    "# Linear Algebra\n",
    "Numpy also has a number of functions for performing linear algebra operations. \n",
    "\n",
    "Firstly, we can use the `np.dot()` function to compute the dot product of two arrays."
   ]
  },
  {
   "cell_type": "code",
   "execution_count": null,
   "metadata": {},
   "outputs": [],
   "source": [
    "x = np.array([1, 2, 3])\n",
    "y = np.array([4, 5, 6])\n",
    "\n",
    "print(\"Dot product \", np.dot(x, y))"
   ]
  },
  {
   "cell_type": "markdown",
   "metadata": {},
   "source": [
    "We can also use `@` to compute the dot product (and matrix multiplication) of two arrays."
   ]
  },
  {
   "cell_type": "code",
   "execution_count": null,
   "metadata": {},
   "outputs": [],
   "source": [
    "print(\"Dot product \", x @ y)"
   ]
  },
  {
   "cell_type": "markdown",
   "metadata": {},
   "source": [
    "### Matrix Operations\n",
    "An $N \\times M$ matrix can be thought of as a collection of M N-element vectors stacked side-by-side as columns. In NumPy, a matrix is represented as a two-dimensional array. "
   ]
  },
  {
   "cell_type": "code",
   "execution_count": null,
   "metadata": {},
   "outputs": [],
   "source": [
    "X = np.array([[1, 2, 3], [4, 5, 6]])\n",
    "X"
   ]
  },
  {
   "cell_type": "markdown",
   "metadata": {},
   "source": [
    "Numpy also has a number of functions for creating common matrices. "
   ]
  },
  {
   "cell_type": "code",
   "execution_count": null,
   "metadata": {},
   "outputs": [],
   "source": [
    "np.zeros((2, 3))    # Create a 2x3 array of zeros"
   ]
  },
  {
   "cell_type": "code",
   "execution_count": null,
   "metadata": {},
   "outputs": [],
   "source": [
    "np.ones((4, 2))     # Create a 4x2 array of ones"
   ]
  },
  {
   "cell_type": "code",
   "execution_count": null,
   "metadata": {},
   "outputs": [],
   "source": [
    "np.eye(3)           # Create a 3x3 identity matrix"
   ]
  },
  {
   "cell_type": "markdown",
   "metadata": {},
   "source": [
    "#### Matrix Multiplication\n",
    "\n",
    "There are three ways to perform matrix multiplication in NumPy. Remember that to perform matrix multiplication, the number of columns in the first matrix must equal the number of rows in the second matrix."
   ]
  },
  {
   "cell_type": "code",
   "execution_count": null,
   "metadata": {},
   "outputs": [],
   "source": [
    "x1 = np.array([[1, 2], [3, 4], [5, 6], [7, 8]])\n",
    "x2 = np.array([[2, 5, 2], [1, 2, 1]])\n",
    "\n",
    "print(\"Using the matmul function for two matrices\")\n",
    "print(np.matmul(x1, x2))\n",
    "print(\"Using the dot function for two matrices\")\n",
    "print(np.dot(x1, x2))\n",
    "print(\"Using @ for two matrices\")\n",
    "print(x1 @ x2)"
   ]
  },
  {
   "cell_type": "markdown",
   "metadata": {},
   "source": [
    "#### Other Linear Algebra Functions\n",
    "To **transpose** a matrix, we use the `np.transpose()` function."
   ]
  },
  {
   "cell_type": "code",
   "execution_count": null,
   "metadata": {},
   "outputs": [],
   "source": [
    "# This is a square (N x N) non-singular matrix\n",
    "A = np.array([[1, 2], [3, 4]])\n",
    "\n",
    "print(\"A transpose\")\n",
    "np.transpose(A)"
   ]
  },
  {
   "cell_type": "markdown",
   "metadata": {},
   "source": [
    "To **invert** a matrix, we use the `np.linalg.inv()` function."
   ]
  },
  {
   "cell_type": "code",
   "execution_count": null,
   "metadata": {},
   "outputs": [],
   "source": [
    "print(\"This is A inverse\")\n",
    "print(np.linalg.inv(A))\n",
    "\n",
    "print(\"Check that A @ A inverse is I\")\n",
    "print(np.linalg.inv(A) @ A)"
   ]
  },
  {
   "cell_type": "markdown",
   "metadata": {},
   "source": [
    "---\n",
    "\n",
    "## Pandas\n",
    "Pandas is an open-source library that provides high-level data structures and methods designed to make data analysis more seamless in Python. It serves as the workhorse for data manipulation tasks and is widely adopted for its compatibility with other key libraries like NumPy and Statsmodels. At the core of Pandas are two primary data structures: the Series and the DataFrame. While Series handles one-dimensional data, DataFrame is tailored for two-dimensional data and is particularly useful for handling real-world datasets.\n",
    "\n",
    "Pandas shines in tasks such as:\n",
    "\n",
    "- Data cleaning and preparationanalysis\n",
    "- Merging, reshaping, and pivoting datasets\n",
    "- Aggregating or transforming data \n",
    "- Exporting and importing data from various file formats\n",
    "\n",
    "In this section we will only cover importing and saving data, transforming data, and basic data analysis. For a more in-depth introduction, see the [DataFrames course](https://pandas.pydata.org/docs/user_guide/index.html).\n",
    "\n",
    "### Data Types\n",
    "Pandas has two main data structures: `Series` and `DataFrame`. A `Series` is a one-dimensional array-like object that can hold many data types, such as numbers or strings. A `DataFrame` is a two-dimensional array-like object that can hold many data types. The `DataFrame` has both row and column indices, and can be thought of as a collection of `Series` objects that share the same index.\n",
    "\n",
    "### Importing Data\n",
    "\n",
    "Pandas has a number of functions for importing data from various file formats, usually with the prefix `read_`. For example, to import a CSV file, we use the `pd.read_csv()` function. To import the mroz dataset in STATA format, we use the `pd.read_stata()` function."
   ]
  },
  {
   "cell_type": "code",
   "execution_count": null,
   "metadata": {},
   "outputs": [],
   "source": [
    "data = pd.read_stata(\"http://fmwww.bc.edu/ec-p/data/wooldridge/mroz.dta\")"
   ]
  },
  {
   "cell_type": "markdown",
   "metadata": {},
   "source": [
    "`data` is a `DataFrame` object. We can see the first few rows of the dataset using the `head()` method."
   ]
  },
  {
   "cell_type": "code",
   "execution_count": null,
   "metadata": {},
   "outputs": [],
   "source": [
    "data.head()\n",
    "# data.tail()   # Uncomment this line to see the last 5 rows of the dataframe"
   ]
  },
  {
   "cell_type": "markdown",
   "metadata": {},
   "source": [
    "To create summary statistics for the dataset, we use the `describe()` method."
   ]
  },
  {
   "cell_type": "code",
   "execution_count": null,
   "metadata": {},
   "outputs": [],
   "source": [
    "data.describe().T # Print summary statistics for each column. The T means transpose the table"
   ]
  },
  {
   "cell_type": "markdown",
   "metadata": {},
   "source": [
    "#### Indexing and Slicing\n",
    "\n",
    "We can access columns of a `DataFrame` using the column name. For example, to access the `age` column, we use the following syntax:"
   ]
  },
  {
   "cell_type": "code",
   "execution_count": null,
   "metadata": {},
   "outputs": [],
   "source": [
    "data[\"age\"]"
   ]
  },
  {
   "cell_type": "markdown",
   "metadata": {},
   "source": [
    "To access multiple columns, we pass a list of column names to the `[]` operator."
   ]
  },
  {
   "cell_type": "code",
   "execution_count": null,
   "metadata": {},
   "outputs": [],
   "source": [
    "data[['age', 'educ', 'exper']]"
   ]
  },
  {
   "cell_type": "markdown",
   "metadata": {},
   "source": [
    "Other ways to access columns include:\n",
    "\n",
    "- `data.age` - Dot notation\n",
    "- `data.loc[:, 'age']` - Label-based indexing\n",
    "- `data.iloc[:, 0]` - Position-based indexing\n",
    "\n",
    "For example, to access the first all rows of the first 3 columns, we use the following syntax:"
   ]
  },
  {
   "cell_type": "code",
   "execution_count": null,
   "metadata": {},
   "outputs": [],
   "source": [
    "data.iloc[:, 0:3]   # Print the first three rows and first three columns"
   ]
  },
  {
   "cell_type": "markdown",
   "metadata": {},
   "source": [
    "To filter the dataset, we use the `[]` operator with a boolean expression. For example, to filter the dataset to only include observations where the `age` is greater than 30, we use the following syntax:"
   ]
  },
  {
   "cell_type": "code",
   "execution_count": null,
   "metadata": {},
   "outputs": [],
   "source": [
    "data[data['age'] > 30]   # Print all rows where age is greater than 30"
   ]
  },
  {
   "cell_type": "markdown",
   "metadata": {},
   "source": [
    "Another way is to use the `query()` method. To filter the dataset to only include observations where the `age` is greater than 30 and have 12 or more years of education, we use the following syntax:"
   ]
  },
  {
   "cell_type": "code",
   "execution_count": null,
   "metadata": {},
   "outputs": [],
   "source": [
    "data.query('age > 30 and educ >= 12')   # Note we surround the condition with quotes"
   ]
  },
  {
   "cell_type": "markdown",
   "metadata": {},
   "source": [
    "#### Creating new variables\n",
    "\n",
    "To create a new variable, we simply assign a value to a new column name. For example, to create a new variable called `age_squared`:"
   ]
  },
  {
   "cell_type": "code",
   "execution_count": null,
   "metadata": {},
   "outputs": [],
   "source": [
    "data[\"age_squared\"] = data[\"age\"] ** 2   # Create a new column with age squared\n",
    "data[[\"age\", \"age_squared\"]].head()      # Print the first five rows of the two columns"
   ]
  },
  {
   "cell_type": "markdown",
   "metadata": {},
   "source": [
    "The `assign()` method is another way to create new variables. For example, to create a new variable called `exp_hours`:"
   ]
  },
  {
   "cell_type": "code",
   "execution_count": null,
   "metadata": {},
   "outputs": [],
   "source": [
    "data = data.assign(exp_hours = lambda data: np.exp(data.hours)) # Alternative way to create a new column\n",
    "data[[\"hours\", \"log_hours\"]].head()"
   ]
  },
  {
   "cell_type": "markdown",
   "metadata": {},
   "source": [
    "### Convert to NumPy\n",
    "\n",
    "If programming our own statistical methods, we probably want to convert our data to a NumPy array to make better use of NumPy's numerical operations. To convert a `DataFrame` to a NumPy array, we use the `to_numpy()` method.\n",
    "\n",
    "Below, we will estimate a mincer wage equation using OLS for people with children. The model is:\n",
    "$$\n",
    "ln wage_i = \\beta_0 + \\beta_1 educ_i + \\beta_2 exper_i + \\beta_3 exper^2_i + \\epsilon_i\n",
    "$$\n",
    "\n",
    "To do this, we need to convert the data to a NumPy array. We will also create a constant variable.\n",
    "\n",
    "The OLS formula is:\n",
    "$$\n",
    "\\hat{\\beta} = (X'X)^{-1}X'y\n",
    "$$"
   ]
  },
  {
   "cell_type": "code",
   "execution_count": null,
   "metadata": {},
   "outputs": [],
   "source": [
    "# Filter for all rows where either kidslt6 or kidsge6 is greater than or equal to 1, and then drop any rows with missing values\n",
    "data_clean = data.query(\"kidslt6 >= 1 or  kidsge6 >= 1\").dropna() \n",
    "\n",
    "# Convert data to numpy arrays\n",
    "X = data_clean[[\"educ\", \"exper\", \"expersq\"]].to_numpy()\n",
    "N, _ = np.shape(X)                                      # Get the number of rows in X   \n",
    "X = np.concatenate((np.ones((N, 1)), X), axis=1)        # Add a column of ones to the X matrix\n",
    "y = data_clean[\"wage\"].to_numpy()\n",
    "\n",
    "\n",
    "# Take inverse of X'X \n",
    "XtX_inv = np.linalg.inv(X.T @ X)\n",
    "# Calculate X'y\n",
    "Xty = X.T @ y\n",
    "\n",
    "# Calculate the OLS coefficients\n",
    "beta_ols = XtX_inv @ Xty\n",
    "\n",
    "for i in range(len(beta_ols)):\n",
    "    print(f\"Beta_{i} = {beta_ols[i]}\")"
   ]
  },
  {
   "cell_type": "markdown",
   "metadata": {},
   "source": [
    "There is still a lot of functionality in Pandas that we have not covered. A handy cheat sheet is available [here](https://pandas.pydata.org/Pandas_Cheat_Sheet.pdf)."
   ]
  },
  {
   "cell_type": "markdown",
   "metadata": {},
   "source": [
    "---\n",
    "\n",
    "## Matplotlib\n",
    "\n",
    "`matplotlib` is the most widely used plotting package in Python. We imported it earlier as\n",
    "\n",
    "```\n",
    "import matplotlib.pyplot as plt\n",
    "```\n",
    "\n",
    "`pyplot` is a sub-module of `matplotlib` used to further organise functions and types, which we gave the alias `plt`.\n",
    "\n",
    "Additionally, as we are working in a notebook, we want to tell matplotlib to display the plots in the notebook itself. "
   ]
  },
  {
   "cell_type": "code",
   "execution_count": null,
   "metadata": {},
   "outputs": [],
   "source": [
    "# tell jupyter to plot inline\n",
    "%matplotlib inline "
   ]
  },
  {
   "cell_type": "markdown",
   "metadata": {},
   "source": [
    "Lets create a plot and then break down the code."
   ]
  },
  {
   "cell_type": "code",
   "execution_count": null,
   "metadata": {},
   "outputs": [],
   "source": [
    "# Step 1\n",
    "fig, ax = plt.subplots()   # Create a figure containing a single axes\n",
    "\n",
    "# Step 2\n",
    "x = np.linspace(0, 10, 1000)   # Create 1,000 evenly spaced numbers between 0 and 10\n",
    "y = np.sin(x)                  # Compute the sine of each of these numbers\n",
    "\n",
    "# Step 3\n",
    "ax.plot(x, y)                  # Plot x and y\n"
   ]
  },
  {
   "cell_type": "markdown",
   "metadata": {},
   "source": [
    "1. `fig, ax = plt.subplots() ` - This creates a figure object and an axes object. The figure object is the canvas that we will draw on, while the axes object is the plot itself.\n",
    "2. Generate data we will plot\n",
    "3. Use our data, and make a plot on our axis, `ax`, by calling the `ax.plot()` method.\n",
    "\n",
    "\n",
    "Understanding the difference between the figure and axes object can be confusing at first. One way to think about them is to think about them as a framed picture. The `ax` object is the picture where we \"draw\" our plots, while the `fig` object is the frame. We can have multiple pictures on the same frame, or multiple frames with different pictures.\n",
    "\n",
    "To see this, we can set the objects to different colours."
   ]
  },
  {
   "cell_type": "code",
   "execution_count": null,
   "metadata": {},
   "outputs": [],
   "source": [
    "fig, ax = plt.subplots()   # Create a figure containing a single axes\n",
    "\n",
    "fig.set_facecolor(\"lightblue\")   # Set the background color of the figure to light blue\n",
    "ax.set_facecolor(\"lightgreen\")   # Set the background color of the axes to light green"
   ]
  },
  {
   "cell_type": "markdown",
   "metadata": {},
   "source": [
    "As noted, this separation also means we can have multiple plots on the same figure."
   ]
  },
  {
   "cell_type": "code",
   "execution_count": null,
   "metadata": {},
   "outputs": [],
   "source": [
    "# First, specified the shape of the axes -- It means we will have two rows and three columns\n",
    "# of axes on our figure\n",
    "fig, axes = plt.subplots(2, 3)\n",
    "\n",
    "fig.set_facecolor(\"gray\")  # Set the background color of the figure to gray\n",
    "\n",
    "# Choose hex colors for the axes\n",
    "colours = [\"#065535\", \"#89ecda\", \"#ffd1dc\", \"#ff0000\", \"#6897bb\", \"#9400d3\"]\n",
    "\n",
    "# axes is a numpy array and we want to iterate over a flat version of it\n",
    "for (ax, c) in zip(axes.flat, colours): # loop through the axes and colours\n",
    "    ax.set_facecolor(c)\n",
    "\n",
    "fig.tight_layout() # Automatically adjust the positions of the axes to fit on the figure"
   ]
  },
  {
   "cell_type": "markdown",
   "metadata": {},
   "source": [
    "### Different Plot Types\n",
    "Matplotlib is very flexible and can be used to create a wide variety of plots. We will cover a few of the most common plot types here. See the [Matplotlib gallery](https://matplotlib.org/stable/gallery/index.html) for more examples. These examples are taken from the Matplotlib gallery.\n",
    "\n",
    "#### Bar Charts"
   ]
  },
  {
   "cell_type": "code",
   "execution_count": null,
   "metadata": {},
   "outputs": [],
   "source": [
    "fig, ax = plt.subplots()\n",
    "\n",
    "fruits = ['apple', 'blueberry', 'cherry', 'orange']\n",
    "counts = [40, 100, 30, 55]\n",
    "bar_labels = ['red', 'blue', '_red', 'orange']\n",
    "bar_colors = ['tab:red', 'tab:blue', 'tab:red', 'tab:orange']\n",
    "\n",
    "ax.bar(fruits, counts, label=bar_labels, color=bar_colors)\n",
    "\n",
    "ax.set_ylabel('fruit supply')\n",
    "ax.set_title('Fruit supply by kind and color')\n",
    "ax.legend(title='Fruit color')\n",
    "\n",
    "plt.show()"
   ]
  },
  {
   "cell_type": "markdown",
   "metadata": {},
   "source": [
    "#### Scatter Plots and Annotation"
   ]
  },
  {
   "cell_type": "code",
   "execution_count": null,
   "metadata": {},
   "outputs": [],
   "source": [
    "np.random.seed(42)\n",
    "N = 50\n",
    "\n",
    "# Example variables: GDP and Unemployment Rate\n",
    "GDP = np.random.normal(2, 0.5, N)\n",
    "unemployment_rate = np.random.normal(5, 1, N)\n",
    "unemployment_rate += -0.5 * GDP\n",
    "colours = np.random.rand(N)\n",
    "area = np.pi * (15 * np.random.rand(N))**2\n",
    "\n",
    "# Create the scatter plot\n",
    "fig, ax = plt.subplots(figsize=(10, 6))\n",
    "ax.scatter(GDP, unemployment_rate, s=area, c=colours, alpha=0.6, edgecolors='k')\n",
    "\n",
    "# Add titles and labels\n",
    "ax.set_title(\"Scatter Plot of GDP vs Unemployment Rate\")\n",
    "ax.set_xlabel(\"GDP (in trillion $)\")\n",
    "ax.set_ylabel(\"Unemployment Rate (%)\")\n",
    "\n",
    "# Add a point annotation\n",
    "highlight_point = (GDP[17], unemployment_rate[17]) # Get the x and y coordinates of the point we want to highlight\n",
    "ax.scatter(*highlight_point, color='red')\n",
    "ax.annotate('Outlier', xy=highlight_point, xytext=(2.75, 5.1),\n",
    "            arrowprops=dict(facecolor='black', arrowstyle='->'),\n",
    "            fontsize=12)"
   ]
  },
  {
   "cell_type": "code",
   "execution_count": null,
   "metadata": {},
   "outputs": [],
   "source": [
    "# Generate synthetic income data\n",
    "# Assume incomes follow a log-normal distribution\n",
    "np.random.seed(42)\n",
    "income_data = np.random.lognormal(mean=10, sigma=0.5, size=1000)\n",
    "\n",
    "# Create the histogram\n",
    "fig, ax = plt.subplots(figsize=(10, 6))\n",
    "ax.hist(income_data, bins=30, color='purple', alpha=0.7, edgecolor='black')\n",
    "\n",
    "# Add titles and labels\n",
    "ax.set_title(\"Income Distribution\")\n",
    "ax.set_xlabel(\"Income (in $)\")\n",
    "ax.set_ylabel(\"Frequency\")\n",
    "\n",
    "# Add a vertical line for mean income\n",
    "mean_income = np.mean(income_data)\n",
    "ax.axvline(mean_income, color='red', linestyle='dashed', linewidth=1)\n",
    "\n",
    "# Add a text label for the mean income\n",
    "ax.text(mean_income+2000, 180, f'Mean: {mean_income:.2f}', rotation=0)\n",
    "\n",
    "# Add grid\n",
    "ax.grid(axis='y')"
   ]
  },
  {
   "cell_type": "markdown",
   "metadata": {},
   "source": [
    "---\n",
    "\n",
    "## Monte-Carlo Simulations\n",
    "\n",
    "In this simulation, we will explore the power of OLS at different sample sizes. \n",
    "\n",
    "To do this we will bring together what we have covered so far, as well introduce defining functions and loops.\n",
    "\n",
    "Recall that the structure of a typical Monte-Carlo simulation is:\n",
    "\n",
    "1. Specify the \"data generating process\" (DGP). Thesea re the assumptions that we make about where the data come from and what their properties are\n",
    "2. Choose a sample size $N$ for you MC simulation\n",
    "3. Choose the number of times you will repeat your MC simulation.\n",
    "4. Generate a random sample of size N based on your DGP\n",
    "5. Using the random sample generated in (4), calculate the statistics of interest. These might be parameter estimates, statistics for tests of hypotheses involving these estimates, specification tests, or whatever. Save these. \n",
    "6. Go back to (4) and repeat (4)-(5) until you have done it 10,000 times.\n",
    "\n",
    "We will define a couple of functions to make our code more readable. The first function will be our DGP, which will generate a dataset of size $N$ and return the data as a Pandas DataFrame. The second function will be our OLS function, which will take our $X$ and $y$ matrices and return the OLS estimates.\n",
    "\n",
    "# Introduction to Functions in Python for Econometrics\n",
    "\n",
    "## What Are Functions?\n",
    "\n",
    "In Python, a function is a reusable block of code designed to perform a specific task. The concept is rooted in mathematical functions \\( f(x) \\), where an input \\( x \\) is mapped to an output \\( f(x) \\).\n",
    "\n",
    "## Why Use Functions in Econometrics?\n",
    "\n",
    "1. **Modularity**: Functions encapsulate specific tasks, making it easier to manage large econometric models.\n",
    "  \n",
    "2. **Reusability**: Once defined, functions can be called multiple times with different data, reducing redundancy. This is particularly useful for bootstrapping, Monte Carlo simulations, and other iterative tasks.\n",
    "\n",
    "3. **Readability**: Using functions enhances code readability, enabling more straightforward interpretation of econometric methods being employed.\n",
    "\n",
    "4. **Debugging**: Isolated blocks of code are easier to troubleshoot than sprawling scripts, reducing the cost of error correction in stochastic simulations or complex econometric analyses.\n",
    "\n",
    "### How to Define and Use Functions\n",
    "\n",
    "#### Defining a Function\n",
    "In Python, a function is defined using the `def` keyword.\n",
    "\n",
    "```python\n",
    "def calculate_ols(y, X):\n",
    "    # Code to perform OLS regression\n",
    "    pass\n",
    "```\n",
    "\n",
    "Here, `calculate_ols` is the function name, and `y` and `X` are the parameters.\n",
    "\n",
    "#### Calling a Function\n",
    "Once defined, call the function by its name followed by parentheses enclosing any arguments.\n",
    "\n",
    "```python\n",
    "calculate_ols(y_data, X_data)\n",
    "```\n",
    "\n",
    "#### Return Statement\n",
    "To extract values from a function, use the `return` statement.\n",
    "\n",
    "```python\n",
    "def calculate_ols(y, X):\n",
    "    # Code to perform OLS regression\n",
    "    return beta_hat\n",
    "```\n",
    "\n",
    "#### Key Points\n",
    "\n",
    "1. **Parameter vs Argument**: Parameters are variables listed during function definition. Arguments are the values passed to the function when called.\n",
    "\n",
    "2. **Scope**: Variables defined inside a function have local scope, making them inaccessible outside the function.\n",
    "\n",
    "3. **Default Values**: Functions can have default parameter values, useful for setting typical econometric assumptions.\n",
    "\n",
    "4. **Lambda Functions**: For simple, ad-hoc tasks, Python offers anonymous (lambda) functions.\n",
    "\n",
    "5. **Higher-Order Functions**: Functions can accept other functions as parameters or return functions, providing flexibility in structuring econometric models.\n",
    "\n",
    "6. **Docstrings**: Always document what the function does, its parameters, and its output. This is crucial for reproducibility in econometric research.\n",
    "\n",
    "By mastering functions in Python, you can write more modular, readable, and reusable code—key traits for effective econometric analysis.\n",
    "\n",
    "\n",
    "Let's now define our DGP function which will have the form:\n",
    "\n",
    "$$\n",
    "y_i = 3 + 2 X_{i} + \\epsilon_i\n",
    "$$\n",
    "    \n",
    "where $\\epsilon_i \\sim N(0, 2)$."
   ]
  },
  {
   "cell_type": "code",
   "execution_count": null,
   "metadata": {},
   "outputs": [],
   "source": [
    "def generate_data(N=1000): \n",
    "    \"\"\"\n",
    "    Generates a dataset based on a simple linear regression model.\n",
    "    \n",
    "    Parameters:\n",
    "    - N (int): The sample size. Default is 1000.\n",
    "    \n",
    "    Returns:\n",
    "    - df (DataFrame): A Pandas DataFrame containing the variables X and y.\n",
    "    \"\"\"\n",
    "    # Numpy has a module for generating random numbers under the subpackage random.\n",
    "    X = np.random.normal(0, 1, N)       # Generate N random numbers from a normal distribution with mean 0 and standard deviation 1\n",
    "    u = np.random.normal(0, 2, N)       # Generate N random numbers from a normal distribution with mean 0 and standard deviation 2\n",
    "    y = 3 + 2 * X + u                   # Generate the dependent variable y\n",
    "    df = pd.DataFrame({'X': X, 'y': y}) # Create a Pandas DataFrame with the variables X and y\n",
    "    return df"
   ]
  },
  {
   "cell_type": "markdown",
   "metadata": {},
   "source": [
    "Let's see what the output looks like"
   ]
  },
  {
   "cell_type": "code",
   "execution_count": null,
   "metadata": {},
   "outputs": [],
   "source": [
    "generate_data(5)"
   ]
  },
  {
   "cell_type": "markdown",
   "metadata": {},
   "source": [
    "Now let's define our OLS function."
   ]
  },
  {
   "cell_type": "code",
   "execution_count": null,
   "metadata": {},
   "outputs": [],
   "source": [
    "def ols(df):\n",
    "    \"\"\"\n",
    "    Computes OLS estimates for a simple linear regression model.\n",
    "    \n",
    "    Parameters:\n",
    "    - df (DataFrame): A Pandas DataFrame containing the dependent variable 'y' and independent variable 'X'.\n",
    "    \n",
    "    Returns:\n",
    "    - β (ndarray): A NumPy array containing the OLS estimates for the intercept and slope [β_0, β_1].\n",
    "    \"\"\"\n",
    "    X = df['X']\n",
    "    X = np.column_stack((np.ones(len(X)), X))  # Adding a constant term for intercept\n",
    "    y = df['y']\n",
    "    \n",
    "    β = np.linalg.inv(X.T.dot(X)).dot(X.T).dot(y)\n",
    "    return β"
   ]
  },
  {
   "cell_type": "markdown",
   "metadata": {},
   "source": [
    "#### Running the Simulation\n",
    "Now let's proceed with running the Monte Carlo simulation. We'll examine the power of OLS at sample sizes \n",
    "`N=[5, 30,100,500]` and repeat the simulation 1,000 times for each sample size."
   ]
  },
  {
   "cell_type": "code",
   "execution_count": null,
   "metadata": {},
   "outputs": [],
   "source": [
    "sample_sizes = [5, 30, 100, 500]\n",
    "n_simulations = 1_000\n",
    "results = {}\n",
    "\n",
    "# Create subplots\n",
    "fig, axs = plt.subplots(2, len(sample_sizes), figsize=(18, 12)) # Create a figure containing 2 rows and 4 columns of axes\n",
    "\n",
    "for idx, N in enumerate(sample_sizes): # Loop through the sample sizes\n",
    "    # enumerate creates a tuple with the index (idx) and the value (N) of the element\n",
    "\n",
    "    # Create empty lists to store the estimates\n",
    "    beta_0_estimates = []\n",
    "    beta_1_estimates = []\n",
    "    \n",
    "    for _ in range(n_simulations): # Here we start the main Monte Carlo loop\n",
    "\n",
    "        # Generate the data\n",
    "        df = generate_data(N)\n",
    "\n",
    "        # Compute the OLS estimates\n",
    "        beta_hat = ols(df)\n",
    "\n",
    "        # Store the estimates using the append method\n",
    "        beta_0_estimates.append(beta_hat[0])\n",
    "        beta_1_estimates.append(beta_hat[1])\n",
    "    \n",
    "    # Store the results for each N\n",
    "    results[N] = {'beta_0': beta_0_estimates, 'beta_1': beta_1_estimates}\n",
    "    \n",
    "    axs[0, idx].hist(results[N]['beta_0'], bins=30, alpha=0.5, label='$\\\\hat{\\\\beta}_0$', range=(-1, 5)) # Plot the histogram of the estimates\n",
    "    axs[0, idx].set_title(f\"Sample Size: {N} (For $\\\\beta_0$)\") # Add a title\n",
    "    axs[0, idx].grid(axis='x')  # Add a grid\n",
    "    axs[0, idx].legend()       # Add a legend\n",
    "\n",
    "    axs[1, idx].hist(results[N]['beta_1'], bins=30, alpha=0.5, label='$\\\\hat{\\\\beta}_1$', range=(-1, 5))\n",
    "    axs[1, idx].set_title(f\"Sample Size: {N} (For $\\\\beta_1$)\")\n",
    "    axs[1, idx].grid(axis='x') \n",
    "    axs[1, idx].legend()\n",
    "\n",
    "plt.tight_layout()\n",
    "plt.show()\n"
   ]
  },
  {
   "cell_type": "code",
   "execution_count": null,
   "metadata": {},
   "outputs": [],
   "source": []
  }
 ],
 "metadata": {
  "kernelspec": {
   "display_name": "sim_env",
   "language": "python",
   "name": "python3"
  },
  "language_info": {
   "codemirror_mode": {
    "name": "ipython",
    "version": 3
   },
   "file_extension": ".py",
   "mimetype": "text/x-python",
   "name": "python",
   "nbconvert_exporter": "python",
   "pygments_lexer": "ipython3",
   "version": "3.10.12"
  }
 },
 "nbformat": 4,
 "nbformat_minor": 2
}
